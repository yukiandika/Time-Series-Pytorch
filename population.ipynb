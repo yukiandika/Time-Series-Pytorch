{
 "cells": [
  {
   "cell_type": "code",
   "execution_count": 149,
   "metadata": {},
   "outputs": [],
   "source": [
    "import pandas as pd\n",
    "import numpy as np\n",
    "import matplotlib.pyplot as plt"
   ]
  },
  {
   "cell_type": "code",
   "execution_count": 150,
   "metadata": {},
   "outputs": [
    {
     "data": {
      "text/html": [
       "<div>\n",
       "<style scoped>\n",
       "    .dataframe tbody tr th:only-of-type {\n",
       "        vertical-align: middle;\n",
       "    }\n",
       "\n",
       "    .dataframe tbody tr th {\n",
       "        vertical-align: top;\n",
       "    }\n",
       "\n",
       "    .dataframe thead th {\n",
       "        text-align: right;\n",
       "    }\n",
       "</style>\n",
       "<table border=\"1\" class=\"dataframe\">\n",
       "  <thead>\n",
       "    <tr style=\"text-align: right;\">\n",
       "      <th></th>\n",
       "      <th>realtime_start</th>\n",
       "      <th>value</th>\n",
       "      <th>date</th>\n",
       "      <th>realtime_end</th>\n",
       "    </tr>\n",
       "  </thead>\n",
       "  <tbody>\n",
       "    <tr>\n",
       "      <th>0</th>\n",
       "      <td>2019-12-06</td>\n",
       "      <td>156309.000</td>\n",
       "      <td>1952-01-01</td>\n",
       "      <td>2019-12-06</td>\n",
       "    </tr>\n",
       "    <tr>\n",
       "      <th>1</th>\n",
       "      <td>2019-12-06</td>\n",
       "      <td>156527.000</td>\n",
       "      <td>1952-02-01</td>\n",
       "      <td>2019-12-06</td>\n",
       "    </tr>\n",
       "    <tr>\n",
       "      <th>2</th>\n",
       "      <td>2019-12-06</td>\n",
       "      <td>156731.000</td>\n",
       "      <td>1952-03-01</td>\n",
       "      <td>2019-12-06</td>\n",
       "    </tr>\n",
       "    <tr>\n",
       "      <th>3</th>\n",
       "      <td>2019-12-06</td>\n",
       "      <td>156943.000</td>\n",
       "      <td>1952-04-01</td>\n",
       "      <td>2019-12-06</td>\n",
       "    </tr>\n",
       "    <tr>\n",
       "      <th>4</th>\n",
       "      <td>2019-12-06</td>\n",
       "      <td>157140.000</td>\n",
       "      <td>1952-05-01</td>\n",
       "      <td>2019-12-06</td>\n",
       "    </tr>\n",
       "    <tr>\n",
       "      <th>...</th>\n",
       "      <td>...</td>\n",
       "      <td>...</td>\n",
       "      <td>...</td>\n",
       "      <td>...</td>\n",
       "    </tr>\n",
       "    <tr>\n",
       "      <th>811</th>\n",
       "      <td>2019-12-06</td>\n",
       "      <td>329591.333</td>\n",
       "      <td>2019-08-01</td>\n",
       "      <td>2019-12-06</td>\n",
       "    </tr>\n",
       "    <tr>\n",
       "      <th>812</th>\n",
       "      <td>2019-12-06</td>\n",
       "      <td>329785.872</td>\n",
       "      <td>2019-09-01</td>\n",
       "      <td>2019-12-06</td>\n",
       "    </tr>\n",
       "    <tr>\n",
       "      <th>813</th>\n",
       "      <td>2019-12-06</td>\n",
       "      <td>329982.035</td>\n",
       "      <td>2019-10-01</td>\n",
       "      <td>2019-12-06</td>\n",
       "    </tr>\n",
       "    <tr>\n",
       "      <th>814</th>\n",
       "      <td>2019-12-06</td>\n",
       "      <td>330154.949</td>\n",
       "      <td>2019-11-01</td>\n",
       "      <td>2019-12-06</td>\n",
       "    </tr>\n",
       "    <tr>\n",
       "      <th>815</th>\n",
       "      <td>2019-12-06</td>\n",
       "      <td>330309.946</td>\n",
       "      <td>2019-12-01</td>\n",
       "      <td>2019-12-06</td>\n",
       "    </tr>\n",
       "  </tbody>\n",
       "</table>\n",
       "<p>816 rows × 4 columns</p>\n",
       "</div>"
      ],
      "text/plain": [
       "    realtime_start       value        date realtime_end\n",
       "0       2019-12-06  156309.000  1952-01-01   2019-12-06\n",
       "1       2019-12-06  156527.000  1952-02-01   2019-12-06\n",
       "2       2019-12-06  156731.000  1952-03-01   2019-12-06\n",
       "3       2019-12-06  156943.000  1952-04-01   2019-12-06\n",
       "4       2019-12-06  157140.000  1952-05-01   2019-12-06\n",
       "..             ...         ...         ...          ...\n",
       "811     2019-12-06  329591.333  2019-08-01   2019-12-06\n",
       "812     2019-12-06  329785.872  2019-09-01   2019-12-06\n",
       "813     2019-12-06  329982.035  2019-10-01   2019-12-06\n",
       "814     2019-12-06  330154.949  2019-11-01   2019-12-06\n",
       "815     2019-12-06  330309.946  2019-12-01   2019-12-06\n",
       "\n",
       "[816 rows x 4 columns]"
      ]
     },
     "execution_count": 150,
     "metadata": {},
     "output_type": "execute_result"
    }
   ],
   "source": [
    "df = pd.read_csv('POP.csv')\n",
    "df"
   ]
  },
  {
   "cell_type": "code",
   "execution_count": 151,
   "metadata": {},
   "outputs": [
    {
     "name": "stdout",
     "output_type": "stream",
     "text": [
      "<class 'pandas.core.frame.DataFrame'>\n",
      "RangeIndex: 816 entries, 0 to 815\n",
      "Data columns (total 4 columns):\n",
      " #   Column          Non-Null Count  Dtype  \n",
      "---  ------          --------------  -----  \n",
      " 0   realtime_start  816 non-null    object \n",
      " 1   value           816 non-null    float64\n",
      " 2   date            816 non-null    object \n",
      " 3   realtime_end    816 non-null    object \n",
      "dtypes: float64(1), object(3)\n",
      "memory usage: 25.6+ KB\n"
     ]
    }
   ],
   "source": [
    "df.info()"
   ]
  },
  {
   "cell_type": "code",
   "execution_count": 152,
   "metadata": {},
   "outputs": [
    {
     "data": {
      "text/plain": [
       "realtime_start      1\n",
       "value             816\n",
       "date              816\n",
       "realtime_end        1\n",
       "dtype: int64"
      ]
     },
     "execution_count": 152,
     "metadata": {},
     "output_type": "execute_result"
    }
   ],
   "source": [
    "df.nunique()"
   ]
  },
  {
   "attachments": {},
   "cell_type": "markdown",
   "metadata": {},
   "source": [
    "- realtime_start and realtime_end columns are not give useful information. It will be dropped.\n",
    "- The date column still have wrong dtype.\n",
    "- I change the name of value column to population"
   ]
  },
  {
   "cell_type": "code",
   "execution_count": 153,
   "metadata": {},
   "outputs": [],
   "source": [
    "#Drop columns\n",
    "df.drop(['realtime_start','realtime_end'], axis=1,inplace=True)"
   ]
  },
  {
   "cell_type": "code",
   "execution_count": 154,
   "metadata": {},
   "outputs": [
    {
     "data": {
      "text/plain": [
       "0     1952-01-01\n",
       "1     1952-02-01\n",
       "2     1952-03-01\n",
       "3     1952-04-01\n",
       "4     1952-05-01\n",
       "         ...    \n",
       "811   2019-08-01\n",
       "812   2019-09-01\n",
       "813   2019-10-01\n",
       "814   2019-11-01\n",
       "815   2019-12-01\n",
       "Name: date, Length: 816, dtype: datetime64[ns]"
      ]
     },
     "execution_count": 154,
     "metadata": {},
     "output_type": "execute_result"
    }
   ],
   "source": [
    "#Change column's type\n",
    "df['date'].astype('datetime64')"
   ]
  },
  {
   "cell_type": "code",
   "execution_count": 155,
   "metadata": {},
   "outputs": [],
   "source": [
    "#change column's name\n",
    "df.rename(columns={'value':'population'},inplace=True)"
   ]
  },
  {
   "cell_type": "code",
   "execution_count": 156,
   "metadata": {},
   "outputs": [],
   "source": [
    "#set date as df index\n",
    "df.set_index('date',inplace=True)"
   ]
  },
  {
   "cell_type": "code",
   "execution_count": 157,
   "metadata": {},
   "outputs": [
    {
     "data": {
      "image/png": "[encoded data removed]",
      "text/plain": [
       "<Figure size 640x480 with 1 Axes>"
      ]
     },
     "metadata": {},
     "output_type": "display_data"
    }
   ],
   "source": [
    "# create line plot\n",
    "ax = df.plot()\n",
    "ax.tick_params('x', labelrotation=90)\n",
    "ax.set_xlabel('')\n",
    "plt.show()\n"
   ]
  },
  {
   "cell_type": "code",
   "execution_count": 158,
   "metadata": {},
   "outputs": [],
   "source": [
    "#Splitting the train and test set (~90%)\n",
    "train_df = df[0:12*61] \n",
    "test_df = df[12*61:]"
   ]
  },
  {
   "cell_type": "code",
   "execution_count": 159,
   "metadata": {},
   "outputs": [
    {
     "data": {
      "text/html": [
       "<div>\n",
       "<style scoped>\n",
       "    .dataframe tbody tr th:only-of-type {\n",
       "        vertical-align: middle;\n",
       "    }\n",
       "\n",
       "    .dataframe tbody tr th {\n",
       "        vertical-align: top;\n",
       "    }\n",
       "\n",
       "    .dataframe thead th {\n",
       "        text-align: right;\n",
       "    }\n",
       "</style>\n",
       "<table border=\"1\" class=\"dataframe\">\n",
       "  <thead>\n",
       "    <tr style=\"text-align: right;\">\n",
       "      <th></th>\n",
       "      <th>population</th>\n",
       "    </tr>\n",
       "    <tr>\n",
       "      <th>date</th>\n",
       "      <th></th>\n",
       "    </tr>\n",
       "  </thead>\n",
       "  <tbody>\n",
       "    <tr>\n",
       "      <th>2013-01-01</th>\n",
       "      <td>315389.595</td>\n",
       "    </tr>\n",
       "    <tr>\n",
       "      <th>2013-02-01</th>\n",
       "      <td>315520.143</td>\n",
       "    </tr>\n",
       "    <tr>\n",
       "      <th>2013-03-01</th>\n",
       "      <td>315662.224</td>\n",
       "    </tr>\n",
       "    <tr>\n",
       "      <th>2013-04-01</th>\n",
       "      <td>315817.855</td>\n",
       "    </tr>\n",
       "    <tr>\n",
       "      <th>2013-05-01</th>\n",
       "      <td>315983.654</td>\n",
       "    </tr>\n",
       "  </tbody>\n",
       "</table>\n",
       "</div>"
      ],
      "text/plain": [
       "            population\n",
       "date                  \n",
       "2013-01-01  315389.595\n",
       "2013-02-01  315520.143\n",
       "2013-03-01  315662.224\n",
       "2013-04-01  315817.855\n",
       "2013-05-01  315983.654"
      ]
     },
     "execution_count": 159,
     "metadata": {},
     "output_type": "execute_result"
    }
   ],
   "source": [
    "test_df.head()"
   ]
  },
  {
   "cell_type": "code",
   "execution_count": 160,
   "metadata": {},
   "outputs": [],
   "source": [
    "#Standardize\n",
    "\n",
    "from sklearn.preprocessing import StandardScaler\n",
    "\n",
    "scaler = StandardScaler()\n",
    "train_scale = scaler.fit_transform(train_df)\n",
    "test_scale = scaler.transform(test_df)"
   ]
  },
  {
   "cell_type": "code",
   "execution_count": 161,
   "metadata": {},
   "outputs": [],
   "source": [
    "import torch\n",
    "\n",
    "#change to tensor and flatten\n",
    "train_tensor = torch.FloatTensor(train_scale).view(-1)\n",
    "test_tensor = torch.FloatTensor(test_scale).view(-1)"
   ]
  },
  {
   "cell_type": "code",
   "execution_count": 162,
   "metadata": {},
   "outputs": [
    {
     "data": {
      "text/plain": [
       "tensor([-1.7380e+00, -1.7332e+00, -1.7287e+00, -1.7240e+00, -1.7196e+00,\n",
       "        -1.7151e+00, -1.7105e+00, -1.7051e+00, -1.6994e+00, -1.6938e+00,\n",
       "        -1.6906e+00, -1.6838e+00, -1.6790e+00, -1.6747e+00, -1.6707e+00,\n",
       "        -1.6661e+00, -1.6619e+00, -1.6573e+00, -1.6522e+00, -1.6463e+00,\n",
       "        -1.6404e+00, -1.6346e+00, -1.6292e+00, -1.6241e+00, -1.6188e+00,\n",
       "        -1.6139e+00, -1.6092e+00, -1.6042e+00, -1.5995e+00, -1.5945e+00,\n",
       "        -1.5892e+00, -1.5834e+00, -1.5772e+00, -1.5711e+00, -1.5653e+00,\n",
       "        -1.5599e+00, -1.5546e+00, -1.5497e+00, -1.5451e+00, -1.5399e+00,\n",
       "        -1.5352e+00, -1.5301e+00, -1.5249e+00, -1.5191e+00, -1.5129e+00,\n",
       "        -1.5066e+00, -1.5007e+00, -1.4952e+00, -1.4898e+00, -1.4847e+00,\n",
       "        -1.4796e+00, -1.4741e+00, -1.4694e+00, -1.4644e+00, -1.4590e+00,\n",
       "        -1.4527e+00, -1.4461e+00, -1.4396e+00, -1.4333e+00, -1.4278e+00,\n",
       "        -1.4221e+00, -1.4169e+00, -1.4119e+00, -1.4066e+00, -1.4015e+00,\n",
       "        -1.3962e+00, -1.3908e+00, -1.3847e+00, -1.3785e+00, -1.3724e+00,\n",
       "        -1.3667e+00, -1.3617e+00, -1.3565e+00, -1.3517e+00, -1.3473e+00,\n",
       "        -1.3422e+00, -1.3373e+00, -1.3320e+00, -1.3266e+00, -1.3208e+00,\n",
       "        -1.3148e+00, -1.3085e+00, -1.3026e+00, -1.2972e+00, -1.2919e+00,\n",
       "        -1.2866e+00, -1.2818e+00, -1.2764e+00, -1.2716e+00, -1.2666e+00,\n",
       "        -1.2613e+00, -1.2553e+00, -1.2492e+00, -1.2430e+00, -1.2371e+00,\n",
       "        -1.2320e+00, -1.2268e+00, -1.2221e+00, -1.2179e+00, -1.2130e+00,\n",
       "        -1.2083e+00, -1.2034e+00, -1.1983e+00, -1.1923e+00, -1.1858e+00,\n",
       "        -1.1793e+00, -1.1734e+00, -1.1680e+00, -1.1625e+00, -1.1574e+00,\n",
       "        -1.1525e+00, -1.1469e+00, -1.1419e+00, -1.1367e+00, -1.1314e+00,\n",
       "        -1.1255e+00, -1.1192e+00, -1.1130e+00, -1.1072e+00, -1.1021e+00,\n",
       "        -1.0971e+00, -1.0924e+00, -1.0880e+00, -1.0831e+00, -1.0783e+00,\n",
       "        -1.0733e+00, -1.0684e+00, -1.0628e+00, -1.0568e+00, -1.0510e+00,\n",
       "        -1.0454e+00, -1.0405e+00, -1.0357e+00, -1.0313e+00, -1.0274e+00,\n",
       "        -1.0231e+00, -1.0185e+00, -1.0134e+00, -1.0085e+00, -1.0028e+00,\n",
       "        -9.9696e-01, -9.9104e-01, -9.8579e-01, -9.8121e-01, -9.7686e-01,\n",
       "        -9.7265e-01, -9.6847e-01, -9.6408e-01, -9.5961e-01, -9.5475e-01,\n",
       "        -9.4981e-01, -9.4445e-01, -9.3902e-01, -9.3338e-01, -9.2859e-01,\n",
       "        -9.2434e-01, -9.2026e-01, -9.1649e-01, -9.1324e-01, -9.0949e-01,\n",
       "        -9.0553e-01, -9.0112e-01, -8.9633e-01, -8.9135e-01, -8.8619e-01,\n",
       "        -8.8096e-01, -8.7657e-01, -8.7265e-01, -8.6895e-01, -8.6565e-01,\n",
       "        -8.6248e-01, -8.5876e-01, -8.5480e-01, -8.5050e-01, -8.4633e-01,\n",
       "        -8.4186e-01, -8.3694e-01, -8.3200e-01, -8.2777e-01, -8.2391e-01,\n",
       "        -8.2028e-01, -8.1682e-01, -8.1361e-01, -8.0987e-01, -8.0639e-01,\n",
       "        -8.0253e-01, -7.9866e-01, -7.9425e-01, -7.8977e-01, -7.8539e-01,\n",
       "        -7.8124e-01, -7.7772e-01, -7.7438e-01, -7.7190e-01, -7.6888e-01,\n",
       "        -7.6552e-01, -7.6213e-01, -7.5825e-01, -7.5448e-01, -7.5023e-01,\n",
       "        -7.4587e-01, -7.4155e-01, -7.3765e-01, -7.3421e-01, -7.3113e-01,\n",
       "        -7.2845e-01, -7.2531e-01, -7.2225e-01, -7.1848e-01, -7.1458e-01,\n",
       "        -7.1082e-01, -7.0639e-01, -7.0167e-01, -6.9697e-01, -6.9259e-01,\n",
       "        -6.8871e-01, -6.8485e-01, -6.8133e-01, -6.7805e-01, -6.7262e-01,\n",
       "        -6.6806e-01, -6.6312e-01, -6.5820e-01, -6.5282e-01, -6.4739e-01,\n",
       "        -6.4190e-01, -6.3667e-01, -6.3193e-01, -6.2688e-01, -6.2240e-01,\n",
       "        -6.1826e-01, -6.1361e-01, -6.0929e-01, -6.0481e-01, -6.0040e-01,\n",
       "        -5.9553e-01, -5.9037e-01, -5.8525e-01, -5.8060e-01, -5.7650e-01,\n",
       "        -5.7258e-01, -5.6939e-01, -5.6604e-01, -5.6219e-01, -5.5867e-01,\n",
       "        -5.5468e-01, -5.5089e-01, -5.4692e-01, -5.4243e-01, -5.3797e-01,\n",
       "        -5.3405e-01, -5.3040e-01, -5.2676e-01, -5.2377e-01, -5.2080e-01,\n",
       "        -5.1713e-01, -5.1365e-01, -5.0991e-01, -5.0629e-01, -5.0224e-01,\n",
       "        -4.9788e-01, -4.9375e-01, -4.9023e-01, -4.8689e-01, -4.8363e-01,\n",
       "        -4.8048e-01, -4.7745e-01, -4.7413e-01, -4.7076e-01, -4.6693e-01,\n",
       "        -4.6320e-01, -4.5904e-01, -4.5452e-01, -4.4998e-01, -4.4612e-01,\n",
       "        -4.4265e-01, -4.3935e-01, -4.3638e-01, -4.3343e-01, -4.3000e-01,\n",
       "        -4.2623e-01, -4.2080e-01, -4.1626e-01, -4.1134e-01, -4.0696e-01,\n",
       "        -4.0266e-01, -3.9858e-01, -3.9504e-01, -3.9140e-01, -3.8799e-01,\n",
       "        -3.8507e-01, -3.8181e-01, -3.7833e-01, -3.7443e-01, -3.7058e-01,\n",
       "        -3.6619e-01, -3.6161e-01, -3.5709e-01, -3.5288e-01, -3.4907e-01,\n",
       "        -3.4524e-01, -3.4158e-01, -3.3804e-01, -3.3405e-01, -3.3017e-01,\n",
       "        -3.2603e-01, -3.2175e-01, -3.1690e-01, -3.1181e-01, -3.0702e-01,\n",
       "        -3.0248e-01, -2.9818e-01, -2.9433e-01, -2.9096e-01, -2.8735e-01,\n",
       "        -2.8294e-01, -2.7884e-01, -2.7434e-01, -2.6978e-01, -2.6491e-01,\n",
       "        -2.5941e-01, -2.5458e-01, -2.5002e-01, -2.4574e-01, -2.4142e-01,\n",
       "        -2.3726e-01, -2.3323e-01, -2.2873e-01, -2.2443e-01, -2.1976e-01,\n",
       "        -2.1506e-01, -2.0974e-01, -2.0416e-01, -1.9853e-01, -1.9353e-01,\n",
       "        -1.8874e-01, -1.8413e-01, -1.7959e-01, -1.7532e-01, -1.7062e-01,\n",
       "        -1.6641e-01, -1.6041e-01, -1.5589e-01, -1.5086e-01, -1.4570e-01,\n",
       "        -1.4058e-01, -1.3626e-01, -1.3256e-01, -1.2906e-01, -1.2609e-01,\n",
       "        -1.2270e-01, -1.1874e-01, -1.1492e-01, -1.1080e-01, -1.0626e-01,\n",
       "        -1.0137e-01, -9.6382e-02, -9.1309e-02, -8.7299e-02, -8.3599e-02,\n",
       "        -7.9878e-02, -7.6422e-02, -7.2943e-02, -6.9067e-02, -6.5433e-02,\n",
       "        -6.1379e-02, -5.7037e-02, -5.2518e-02, -4.7932e-02, -4.3124e-02,\n",
       "        -3.9203e-02, -3.5504e-02, -3.1915e-02, -2.8569e-02, -2.5468e-02,\n",
       "        -2.1746e-02, -1.8622e-02, -1.4280e-02, -1.0093e-02, -5.7953e-03,\n",
       "        -1.3646e-03,  3.1991e-03,  6.9874e-03,  1.0466e-02,  1.3789e-02,\n",
       "         1.6934e-02,  2.0213e-02,  2.3846e-02,  2.7258e-02,  3.0958e-02,\n",
       "         3.5123e-02,  3.9576e-02,  4.4250e-02,  4.9035e-02,  5.3089e-02,\n",
       "         5.6568e-02,  5.9935e-02,  6.2904e-02,  6.5784e-02,  6.9505e-02,\n",
       "         7.3360e-02,  7.7702e-02,  8.2045e-02,  8.6763e-02,  9.1615e-02,\n",
       "         9.6378e-02,  1.0068e-01,  1.0444e-01,  1.0801e-01,  1.1133e-01,\n",
       "         1.1443e-01,  1.1811e-01,  1.2203e-01,  1.2620e-01,  1.3045e-01,\n",
       "         1.3495e-01,  1.3969e-01,  1.4425e-01,  1.4853e-01,  1.5192e-01,\n",
       "         1.5555e-01,  1.5879e-01,  1.6209e-01,  1.6592e-01,  1.6971e-01,\n",
       "         1.7381e-01,  1.7815e-01,  1.8276e-01,  1.8743e-01,  1.9237e-01,\n",
       "         1.9665e-01,  2.0041e-01,  2.0422e-01,  2.0755e-01,  2.1082e-01,\n",
       "         2.1450e-01,  2.1816e-01,  2.2250e-01,  2.2726e-01,  2.3211e-01,\n",
       "         2.3708e-01,  2.4215e-01,  2.4638e-01,  2.5019e-01,  2.5391e-01,\n",
       "         2.5733e-01,  2.6069e-01,  2.6492e-01,  2.6902e-01,  2.7363e-01,\n",
       "         2.7868e-01,  2.8380e-01,  2.8918e-01,  2.9474e-01,  2.9948e-01,\n",
       "         3.0387e-01,  3.0786e-01,  3.1158e-01,  3.1568e-01,  3.2219e-01,\n",
       "         3.2793e-01,  3.3422e-01,  3.4049e-01,  3.4729e-01,  3.5420e-01,\n",
       "         3.6098e-01,  3.6739e-01,  3.7359e-01,  3.7942e-01,  3.8486e-01,\n",
       "         3.9012e-01,  3.9612e-01,  4.0210e-01,  4.0861e-01,  4.1495e-01,\n",
       "         4.2191e-01,  4.2897e-01,  4.3582e-01,  4.4209e-01,  4.4754e-01,\n",
       "         4.5308e-01,  4.5826e-01,  4.6391e-01,  4.7031e-01,  4.7680e-01,\n",
       "         4.8354e-01,  4.9029e-01,  4.9778e-01,  5.0478e-01,  5.1172e-01,\n",
       "         5.1805e-01,  5.2395e-01,  5.2984e-01,  5.3516e-01,  5.4032e-01,\n",
       "         5.4612e-01,  5.5202e-01,  5.5828e-01,  5.6475e-01,  5.7164e-01,\n",
       "         5.7831e-01,  5.8487e-01,  5.9067e-01,  5.9619e-01,  6.0162e-01,\n",
       "         6.0614e-01,  6.1121e-01,  6.1739e-01,  6.2284e-01,  6.2893e-01,\n",
       "         6.3522e-01,  6.4161e-01,  6.4810e-01,  6.5439e-01,  6.6010e-01,\n",
       "         6.6553e-01,  6.7085e-01,  6.7586e-01,  6.8084e-01,  6.8660e-01,\n",
       "         6.9198e-01,  6.9801e-01,  7.0437e-01,  7.1070e-01,  7.1755e-01,\n",
       "         7.2428e-01,  7.3002e-01,  7.3507e-01,  7.3968e-01,  7.4440e-01,\n",
       "         7.4952e-01,  7.5523e-01,  7.6088e-01,  7.6704e-01,  7.7327e-01,\n",
       "         7.8011e-01,  7.8693e-01,  7.9351e-01,  8.0009e-01,  8.0557e-01,\n",
       "         8.1077e-01,  8.1576e-01,  8.2098e-01,  8.2679e-01,  8.3253e-01,\n",
       "         8.3873e-01,  8.4515e-01,  8.5235e-01,  8.5935e-01,  8.6598e-01,\n",
       "         8.7205e-01,  8.7750e-01,  8.8313e-01,  8.8782e-01,  8.9245e-01,\n",
       "         8.9815e-01,  9.0391e-01,  9.0993e-01,  9.1611e-01,  9.2283e-01,\n",
       "         9.2938e-01,  9.3579e-01,  9.4186e-01,  9.4737e-01,  9.5322e-01,\n",
       "         9.5770e-01,  9.6226e-01,  9.6786e-01,  9.7376e-01,  9.8005e-01,\n",
       "         9.8656e-01,  9.9336e-01,  1.0000e+00,  1.0067e+00,  1.0126e+00,\n",
       "         1.0180e+00,  1.0238e+00,  1.0285e+00,  1.0334e+00,  1.0388e+00,\n",
       "         1.0438e+00,  1.0493e+00,  1.0550e+00,  1.0610e+00,  1.0671e+00,\n",
       "         1.0731e+00,  1.0787e+00,  1.0841e+00,  1.0890e+00,  1.0938e+00,\n",
       "         1.0985e+00,  1.1037e+00,  1.1087e+00,  1.1143e+00,  1.1198e+00,\n",
       "         1.1256e+00,  1.1316e+00,  1.1373e+00,  1.1427e+00,  1.1477e+00,\n",
       "         1.1526e+00,  1.1571e+00,  1.1615e+00,  1.1661e+00,  1.1711e+00,\n",
       "         1.1764e+00,  1.1817e+00,  1.1874e+00,  1.1931e+00,  1.1987e+00,\n",
       "         1.2039e+00,  1.2085e+00,  1.2130e+00,  1.2174e+00,  1.2217e+00,\n",
       "         1.2265e+00,  1.2314e+00,  1.2367e+00,  1.2419e+00,  1.2475e+00,\n",
       "         1.2530e+00,  1.2586e+00,  1.2638e+00,  1.2682e+00,  1.2723e+00,\n",
       "         1.2762e+00,  1.2805e+00,  1.2853e+00,  1.2901e+00,  1.2951e+00,\n",
       "         1.3004e+00,  1.3061e+00,  1.3117e+00,  1.3174e+00,  1.3227e+00,\n",
       "         1.3277e+00,  1.3326e+00,  1.3368e+00,  1.3408e+00,  1.3453e+00,\n",
       "         1.3501e+00,  1.3552e+00,  1.3608e+00,  1.3664e+00,  1.3723e+00,\n",
       "         1.3782e+00,  1.3834e+00,  1.3883e+00,  1.3931e+00,  1.3977e+00,\n",
       "         1.4023e+00,  1.4072e+00,  1.4119e+00,  1.4173e+00,  1.4230e+00,\n",
       "         1.4289e+00,  1.4354e+00,  1.4416e+00,  1.4473e+00,  1.4528e+00,\n",
       "         1.4580e+00,  1.4630e+00,  1.4679e+00,  1.4730e+00,  1.4781e+00,\n",
       "         1.4838e+00,  1.4897e+00,  1.4955e+00,  1.5017e+00,  1.5074e+00,\n",
       "         1.5129e+00,  1.5181e+00,  1.5229e+00,  1.5275e+00,  1.5318e+00,\n",
       "         1.5365e+00,  1.5410e+00,  1.5462e+00,  1.5516e+00,  1.5570e+00,\n",
       "         1.5629e+00,  1.5683e+00,  1.5734e+00,  1.5783e+00,  1.5828e+00,\n",
       "         1.5871e+00,  1.5912e+00,  1.5956e+00,  1.6000e+00,  1.6049e+00,\n",
       "         1.6101e+00,  1.6155e+00,  1.6213e+00,  1.6267e+00,  1.6317e+00,\n",
       "         1.6365e+00,  1.6409e+00,  1.6452e+00,  1.6493e+00,  1.6489e+00,\n",
       "         1.6528e+00,  1.6568e+00,  1.6612e+00,  1.6659e+00,  1.6707e+00,\n",
       "         1.6757e+00,  1.6800e+00,  1.6841e+00,  1.6881e+00,  1.6915e+00,\n",
       "         1.6948e+00,  1.6986e+00,  1.7024e+00,  1.7065e+00,  1.7110e+00,\n",
       "         1.7157e+00,  1.7206e+00,  1.7254e+00,  1.7295e+00,  1.7335e+00,\n",
       "         1.7373e+00,  1.7408e+00,  1.7443e+00,  1.7480e+00,  1.7517e+00,\n",
       "         1.7558e+00,  1.7601e+00,  1.7648e+00,  1.7697e+00,  1.7743e+00,\n",
       "         1.7788e+00,  1.7827e+00])"
      ]
     },
     "execution_count": 162,
     "metadata": {},
     "output_type": "execute_result"
    }
   ],
   "source": [
    "train_tensor"
   ]
  },
  {
   "cell_type": "code",
   "execution_count": 163,
   "metadata": {},
   "outputs": [],
   "source": [
    "# function for making sequential data\n",
    "def input_data(data, seq_size):\n",
    "    out = []\n",
    "    length = len(data)\n",
    "    \n",
    "    for i in range(length-seq_size):\n",
    "        feature = data[i : i+seq_size]\n",
    "        target = data[i+seq_size : i+seq_size+1]\n",
    "        out.append((feature, target))\n",
    "    \n",
    "    return out"
   ]
  },
  {
   "cell_type": "code",
   "execution_count": 164,
   "metadata": {},
   "outputs": [],
   "source": [
    "train_dataset = input_data(train_tensor, 12)\n",
    "test_dataset = input_data(test_tensor, 12)"
   ]
  },
  {
   "cell_type": "code",
   "execution_count": 165,
   "metadata": {},
   "outputs": [],
   "source": [
    "from torch.utils.data import DataLoader\n",
    "\n",
    "# setting batch size\n",
    "bs = 9\n",
    "\n",
    "#make the dataloader\n",
    "train_loader = DataLoader(train_dataset, batch_size=bs, shuffle=False)\n",
    "test_loader = DataLoader(test_dataset, batch_size=bs, shuffle=False)"
   ]
  },
  {
   "cell_type": "code",
   "execution_count": 166,
   "metadata": {},
   "outputs": [],
   "source": [
    "#make the architecture\n",
    "\n",
    "from torch import nn\n",
    "\n",
    "class RNN(nn.Module):\n",
    "    def __init__(self, input_size, output_size, hidden_size, num_layers):\n",
    "        super().__init__()\n",
    "        self.rnn = nn.RNN(\n",
    "            input_size = input_size,\n",
    "            hidden_size = hidden_size,\n",
    "            num_layers = num_layers\n",
    "        ) # RNN block\n",
    "        self.fc = nn.Linear(\n",
    "            in_features = hidden_size,\n",
    "            out_features = output_size\n",
    "        ) # fully connected layer\n",
    "        \n",
    "    def forward(self, x, hidden): #feedforward step\n",
    "        x, hidden = self.rnn(x, hidden)\n",
    "        x = self.fc(x)\n",
    "        \n",
    "        return x, hidden"
   ]
  },
  {
   "cell_type": "code",
   "execution_count": 168,
   "metadata": {},
   "outputs": [],
   "source": [
    "config = {\n",
    "    \"input_size\": 12, \n",
    "    \"output_size\": 1, \n",
    "    \"hidden_size\": 64, \n",
    "    \"num_layers\": 2\n",
    "}"
   ]
  },
  {
   "cell_type": "code",
   "execution_count": 169,
   "metadata": {},
   "outputs": [],
   "source": [
    "torch.manual_seed(2102)\n",
    "\n",
    "model = RNN(\n",
    "    input_size = config[\"input_size\"], \n",
    "    output_size = config[\"output_size\"], \n",
    "    hidden_size = config[\"hidden_size\"], \n",
    "    num_layers = config[\"num_layers\"]\n",
    ")"
   ]
  },
  {
   "cell_type": "code",
   "execution_count": 170,
   "metadata": {},
   "outputs": [],
   "source": [
    "#MSE loss function\n",
    "criterion = nn.MSELoss()"
   ]
  },
  {
   "cell_type": "code",
   "execution_count": 172,
   "metadata": {},
   "outputs": [
    {
     "data": {
      "text/plain": [
       "<bound method Module.parameters of RNN(\n",
       "  (rnn): RNN(12, 64, num_layers=2)\n",
       "  (fc): Linear(in_features=64, out_features=1, bias=True)\n",
       ")>"
      ]
     },
     "execution_count": 172,
     "metadata": {},
     "output_type": "execute_result"
    }
   ],
   "source": [
    "from torch import optim\n",
    "\n",
    "optimizer = optim.SGD(params = model.parameters(), lr = 0.002)\n",
    "model.parameters"
   ]
  },
  {
   "cell_type": "code",
   "execution_count": 173,
   "metadata": {},
   "outputs": [],
   "source": [
    "device = \"gpu\" if torch.cuda.is_available() else \"cpu\""
   ]
  },
  {
   "cell_type": "code",
   "execution_count": 175,
   "metadata": {},
   "outputs": [
    {
     "name": "stdout",
     "output_type": "stream",
     "text": [
      "Epoch: 100/100 | train_cost: 0.000607 | test_cost: 0.009954 "
     ]
    }
   ],
   "source": [
    "epochs = 100\n",
    "train_cost, test_cost = [], []\n",
    "\n",
    "for i in range(epochs):\n",
    "    # training\n",
    "    model.train()\n",
    "    cost = 0\n",
    "    for feature, target in train_loader: # iteration for minibatch\n",
    "        # feedforward\n",
    "        output, hidden = model.forward(feature, None)\n",
    "        # loss\n",
    "        loss = criterion(output, target)\n",
    "        # backpropagation\n",
    "        loss.backward()\n",
    "        # update weight\n",
    "        optimizer.step()\n",
    "        # reset optimizer \n",
    "        optimizer.zero_grad()\n",
    "        \n",
    "        # total loss per minibatch \n",
    "        cost += loss.item() * feature.shape[0] \n",
    "    train_cost.append(cost / len(train_dataset)) # cost (MSE) per epoch \n",
    "    \n",
    "    #Evaluation\n",
    "    with torch.no_grad(): \n",
    "        model.eval()\n",
    "        cost = 0\n",
    "        for feature, target in test_loader:\n",
    "            # feedforward\n",
    "            output, hidden = model.forward(feature, None)\n",
    "            # loss\n",
    "            loss = criterion(output, target)\n",
    "            cost += loss.item() * feature.shape[0]\n",
    "        test_cost.append(cost / len(test_dataset)) # cost (MSE) per epoch \n",
    "\n",
    "    print(f'\\rEpoch: {i+1}/{epochs} | train_cost: {train_cost[-1]:4f} | test_cost: {test_cost[-1]:4f}', end=' ')"
   ]
  },
  {
   "cell_type": "code",
   "execution_count": 176,
   "metadata": {},
   "outputs": [
    {
     "data": {
      "text/plain": [
       "<matplotlib.legend.Legend at 0x185ddb9e170>"
      ]
     },
     "execution_count": 176,
     "metadata": {},
     "output_type": "execute_result"
    },
    {
     "data": {
      "image/png": "[encoded data removed]",
      "text/plain": [
       "<Figure size 640x480 with 1 Axes>"
      ]
     },
     "metadata": {},
     "output_type": "display_data"
    }
   ],
   "source": [
    "plt.plot(train_cost, label = \"train\")\n",
    "plt.plot(test_cost, label = \"test\")\n",
    "\n",
    "plt.xlabel(\"epoch\")\n",
    "plt.ylabel(\"cost\")\n",
    "plt.legend()"
   ]
  },
  {
   "cell_type": "code",
   "execution_count": 177,
   "metadata": {},
   "outputs": [],
   "source": [
    "preds, targets = [], []\n",
    "hidden = None\n",
    "last_inputs = None\n",
    "\n",
    "month = 120 # jumlah bulan yang akan diprediksi\n",
    "\n",
    "with torch.no_grad():\n",
    "    model.eval() \n",
    "    for inputs, target in test_loader: \n",
    "        output, hidden = model(inputs, hidden)\n",
    "        preds += output.flatten().tolist()\n",
    "        targets += target.flatten().tolist()\n",
    "        last_inputs = inputs\n",
    "\n",
    "    n_forecast = int(np.ceil(month/len(last_inputs))) # karena menggunakan minibatch, maka jumlah iterasi menyesuaikan\n",
    "\n",
    "    for i in range(int(n_forecast)):\n",
    "        # take last prediction result for new input\n",
    "        pred_inputs = (last_inputs[-1][1:]).tolist()\n",
    "        pred_inputs.append(preds[-1])\n",
    "        \n",
    "        # create new input format for models\n",
    "        forecast_inputs = last_inputs[1:].tolist()\n",
    "        forecast_inputs.append(pred_inputs)\n",
    "        forecast_inputs = torch.tensor(forecast_inputs)\n",
    "        \n",
    "        # forecast and saving the result\n",
    "        output, hidden = model(forecast_inputs, hidden)\n",
    "        last_inputs = forecast_inputs\n",
    "        preds += output.flatten().tolist()\n",
    "\n",
    "# inverse the result since we use scaling on our data\n",
    "preds = scaler.inverse_transform(pd.DataFrame(preds))\n",
    "targets = scaler.inverse_transform(pd.DataFrame(targets))"
   ]
  },
  {
   "cell_type": "code",
   "execution_count": 178,
   "metadata": {},
   "outputs": [
    {
     "data": {
      "image/png": "[encoded data removed]",
      "text/plain": [
       "<Figure size 1500x500 with 1 Axes>"
      ]
     },
     "metadata": {},
     "output_type": "display_data"
    }
   ],
   "source": [
    "# Plot the predicted and actual values\n",
    "plt.figure(figsize=(15,5))\n",
    "plt.plot(targets, label='Actual')\n",
    "plt.plot(preds, label='Predicted')\n",
    "\n",
    "plt.axvline(len(test_dataset), color='k', linestyle=\"--\", linewidth=1)\n",
    "plt.axvline(len(test_dataset) + n_forecast*len(last_inputs), color='k', linestyle=\"--\", linewidth=1)\n",
    "\n",
    "plt.legend()\n",
    "plt.show()"
   ]
  }
 ],
 "metadata": {
  "kernelspec": {
   "display_name": "dss_tsfeb",
   "language": "python",
   "name": "python3"
  },
  "language_info": {
   "codemirror_mode": {
    "name": "ipython",
    "version": 3
   },
   "file_extension": ".py",
   "mimetype": "text/x-python",
   "name": "python",
   "nbconvert_exporter": "python",
   "pygments_lexer": "ipython3",
   "version": "3.10.9"
  },
  "orig_nbformat": 4
 },
 "nbformat": 4,
 "nbformat_minor": 2
}
